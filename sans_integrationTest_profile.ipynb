{
 "cells": [
  {
   "cell_type": "markdown",
   "id": "dc5b31c0-9d85-4e6b-9128-b1e1add8df05",
   "metadata": {},
   "source": [
    "# Overview\n",
    "\n",
    "This notebook is for tracking/book-keeping of the profilling for all integration tests within drtsans."
   ]
  },
  {
   "cell_type": "markdown",
   "id": "300bb00e-ae14-4f23-a354-9006b5361c9d",
   "metadata": {
    "tags": []
   },
   "source": [
    "## SANS/sans-backend/tests/integration/new/drtsans\n",
    "\n",
    "Only benchmarking tests at this level (a.k.a. *.py files only)\n",
    "\n",
    "```\n",
    "├── __init__.py\n",
    "├── mono\n",
    "├── __pycache__\n",
    "├── test_absolute_units.py\n",
    "├── test_auto_wedge.py\n",
    "├── test_beam_finder.py\n",
    "├── test_gaussian_fitting.py\n",
    "├── test_geometry.py\n",
    "├── test_load.py\n",
    "├── test_mask_utils.py\n",
    "├── test_momentum_transfer.py\n",
    "├── test_pixel_calibration.py\n",
    "├── test_prepare_sensitivities.py\n",
    "├── test_stitch.py\n",
    "├── test_subtract_background.py\n",
    "├── test_tubecollection.py\n",
    "└── tof\n",
    "```"
   ]
  },
  {
   "cell_type": "markdown",
   "id": "2543138a-a2ce-46da-adbb-ed515f0f9a28",
   "metadata": {},
   "source": [
    "### test_absolute_units.py\n",
    "\n",
    "```\n",
    "cmoea 96 kB\n",
    "output_workspace 96 kB\n",
    "qracf 96 kB\n",
    "qrrjf 96 kB\n",
    "```"
   ]
  },
  {
   "cell_type": "markdown",
   "id": "50419c30-3c9f-4ca3-b3d9-7edc39bd65f4",
   "metadata": {},
   "source": [
    "### test_auto_wedge.py\n",
    "\n",
    "> one test failed due to matplotlib backend, no left over workspace in memory"
   ]
  },
  {
   "cell_type": "markdown",
   "id": "6faccea1-04e4-4ff1-8c1a-fcfb033b79f2",
   "metadata": {},
   "source": [
    "### test_beam_finder.py\n",
    "\n",
    "```\n",
    "BIOSANS 3736 kB\n",
    "count 2680 kB\n",
    "GenericSANS 664 kB\n",
    "sensitivity 2680 kB\n",
    "sensitivity_corrected 2680 kB\n",
    "w_eqsans 1179744 kB\n",
    "```"
   ]
  },
  {
   "cell_type": "markdown",
   "id": "b89c0aca-7d50-42a3-bd5f-aed9c7c97ac4",
   "metadata": {},
   "source": [
    "### test_gaussian_fitting.py\n",
    "\n",
    "```\n",
    "barscan_GPSANS_detector1_20200818 393216 kB\n",
    "tubewidth_GPSANS_detector1_20200612 393216 kB\n",
    "ws_center 15260125 kB\n",
    "```"
   ]
  },
  {
   "cell_type": "markdown",
   "id": "f3f55e8e-d524-4ca2-b671-34916cccb702",
   "metadata": {},
   "source": [
    "### test_geometry.py\n",
    "\n",
    "> no leak"
   ]
  },
  {
   "cell_type": "markdown",
   "id": "09983f40-9af6-4910-b4fa-8edbbb65127c",
   "metadata": {},
   "source": [
    "### test_load.py\n",
    "\n",
    "```\n",
    "barscan_GPSANS_detector1_20200103 393216 kB\n",
    "tubewidth_GPSANS_detector1_20200130 393216 kB\n",
    "```"
   ]
  },
  {
   "cell_type": "markdown",
   "id": "868f6fe1-8b24-4dcd-8584-b00fed21f96b",
   "metadata": {},
   "source": [
    "### test_mask_utils.py\n",
    "\n",
    "```\n",
    "@py_assert3 0 kB\n",
    "```\n",
    "\n",
    "> not sure how we are getting this one"
   ]
  },
  {
   "cell_type": "markdown",
   "id": "0403bad7-0ffd-4103-89e1-e6415c9f7041",
   "metadata": {},
   "source": [
    "### test_momentum_transfer.py\n",
    "\n",
    "> no leak"
   ]
  },
  {
   "cell_type": "markdown",
   "id": "b65a0f14-d1f9-4692-ae99-88fe9a44df93",
   "metadata": {},
   "source": [
    "### test_pixel_calibration.py\n",
    "\n",
    "```\n",
    "barscan_GPSANS_detector1_20200103 393216 kB\n",
    "barscan_GPSANS_detector1_20200103_heights 1181868 kB\n",
    "barscan_GPSANS_detector1_20200103_positions 1181868 kB\n",
    "barscan_GPSANS_detector1_20200103_positions_mantid 1181868 kB\n",
    "barscan_UNDEFINED_detector1_20200219 640 kB\n",
    "scan_55 1181868 kB\n",
    "tubewidth_BIOSANS_wing_detector_20200118 327680 kB\n",
    "tubewidth_GPSANS_detector1_20200130 393216 kB\n",
    "tubewidth_UNDEFINED_detector1_20200219 800 kB\n",
    "```"
   ]
  },
  {
   "cell_type": "markdown",
   "id": "26534f0a-3e1e-4671-a2a0-ffe2b0a7ce26",
   "metadata": {},
   "source": [
    "### test_prepare_sensitivities.py\n",
    "\n",
    "```\n",
    "BC_CG2_CG2_7117 1434937 kB\n",
    "BC_CG2_CG2_7119 1448089 kB\n",
    "BC_CG2_CG2_7121 1442393 kB\n",
    "BC_CG3_CG3_4830 2763785 kB\n",
    "BC_EQSANS_/SNS/EQSANS/shared/sans-backend/data/new/ornl/sans/sns/eqsans/EQSANS_111042.nxs.h5 37114117 kB\n",
    "BIOSANS_4835 44614937 kB\n",
    "BIOSANS_4835_sensitivity 2162968 kB\n",
    "BIOSANS_4835_sensitivity_new 5686553 kB\n",
    "EQSANS_111030 43589589 kB\n",
    "EQSANS_111030_sensitivity 1179928 kB\n",
    "EQSANS_111030_sensitivity_new 22355925 kB\n",
    "gold_sens_ws 12333224 kB\n",
    "GPSANS_7116 33567113 kB\n",
    "GPSANS_7116_processed_histo 12334073 kB\n",
    "GPSANS_7118 12118841 kB\n",
    "GPSANS_7118_processed_histo 12118841 kB\n",
    "GPSANS_7120 12078681 kB\n",
    "GPSANS_7120_processed_histo 12078681 kB\n",
    "sensitivities 1179928 kB\n",
    "sensitivities_new 12333449 kB\n",
    "test_sens_ws 12333449 kB\n",
    "TRANS_CG3_4831 2762857 kB\n",
    "TRANS_CG3_4835 5687177 kB\n",
    "```"
   ]
  },
  {
   "cell_type": "markdown",
   "id": "c33236c5-d55b-4eb8-acb3-374246d4f7b3",
   "metadata": {},
   "source": [
    "### test_stitch.py\n",
    "\n",
    "> no leak"
   ]
  },
  {
   "cell_type": "markdown",
   "id": "97165851-48de-4ec2-b9fd-5341cb8a4060",
   "metadata": {},
   "source": [
    "### test_subtract_background.py\n",
    "\n",
    "```\n",
    "@py_assert3 32 kB\n",
    "messages 0 kB\n",
    "```"
   ]
  },
  {
   "cell_type": "markdown",
   "id": "5b602f6c-bb04-48b1-96b0-7e96c01c99b1",
   "metadata": {},
   "source": [
    "### test_tubecollection.py\n",
    "\n",
    "```\n",
    "workspace 2162808 kB\n",
    "```"
   ]
  },
  {
   "cell_type": "code",
   "execution_count": null,
   "id": "8aa31a9c-d0e9-4e03-939f-18ded35b830a",
   "metadata": {},
   "outputs": [],
   "source": []
  }
 ],
 "metadata": {
  "kernelspec": {
   "display_name": "Python 3",
   "language": "python",
   "name": "python3"
  },
  "language_info": {
   "codemirror_mode": {
    "name": "ipython",
    "version": 3
   },
   "file_extension": ".py",
   "mimetype": "text/x-python",
   "name": "python",
   "nbconvert_exporter": "python",
   "pygments_lexer": "ipython3",
   "version": "3.8.12"
  }
 },
 "nbformat": 4,
 "nbformat_minor": 5
}
