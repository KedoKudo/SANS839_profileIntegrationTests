{
 "cells": [
  {
   "cell_type": "markdown",
   "id": "dc5b31c0-9d85-4e6b-9128-b1e1add8df05",
   "metadata": {},
   "source": [
    "# Overview\n",
    "\n",
    "This notebook is for tracking/book-keeping of the profilling for all integration tests within drtsans."
   ]
  },
  {
   "cell_type": "markdown",
   "id": "300bb00e-ae14-4f23-a354-9006b5361c9d",
   "metadata": {
    "tags": []
   },
   "source": [
    "## SANS/sans-backend/tests/integration/new/drtsans\n",
    "\n",
    "Only benchmarking tests at this level (a.k.a. *.py files only)\n",
    "\n",
    "```\n",
    "├── __init__.py\n",
    "├── mono\n",
    "├── __pycache__\n",
    "├── test_absolute_units.py\n",
    "├── test_auto_wedge.py\n",
    "├── test_beam_finder.py\n",
    "├── test_gaussian_fitting.py\n",
    "├── test_geometry.py\n",
    "├── test_load.py\n",
    "├── test_mask_utils.py\n",
    "├── test_momentum_transfer.py\n",
    "├── test_pixel_calibration.py\n",
    "├── test_prepare_sensitivities.py\n",
    "├── test_stitch.py\n",
    "├── test_subtract_background.py\n",
    "├── test_tubecollection.py\n",
    "└── tof\n",
    "```"
   ]
  },
  {
   "cell_type": "markdown",
   "id": "2543138a-a2ce-46da-adbb-ed515f0f9a28",
   "metadata": {},
   "source": [
    "### test_absolute_units.py\n",
    "\n",
    "```\n",
    "cmoea 96 kB\n",
    "output_workspace 96 kB\n",
    "qracf 96 kB\n",
    "qrrjf 96 kB\n",
    "```"
   ]
  },
  {
   "cell_type": "markdown",
   "id": "50419c30-3c9f-4ca3-b3d9-7edc39bd65f4",
   "metadata": {},
   "source": [
    "### test_auto_wedge.py\n",
    "\n",
    "> one test failed due to matplotlib backend, no lead in memory"
   ]
  },
  {
   "cell_type": "markdown",
   "id": "6faccea1-04e4-4ff1-8c1a-fcfb033b79f2",
   "metadata": {},
   "source": [
    "### test_beam_finder.py\n",
    "\n",
    "```\n",
    "BIOSANS 3736 kB\n",
    "count 2680 kB\n",
    "GenericSANS 664 kB\n",
    "sensitivity 2680 kB\n",
    "sensitivity_corrected 2680 kB\n",
    "w_eqsans 1179744 kB\n",
    "```"
   ]
  },
  {
   "cell_type": "markdown",
   "id": "b89c0aca-7d50-42a3-bd5f-aed9c7c97ac4",
   "metadata": {},
   "source": [
    "### test_gaussian_fitting.py\n",
    "\n",
    "```\n",
    "barscan_GPSANS_detector1_20200818 393216 kB\n",
    "tubewidth_GPSANS_detector1_20200612 393216 kB\n",
    "ws_center 15260125 kB\n",
    "```"
   ]
  },
  {
   "cell_type": "markdown",
   "id": "f3f55e8e-d524-4ca2-b671-34916cccb702",
   "metadata": {},
   "source": [
    "### test_geometry.py\n",
    "\n",
    "> no leak"
   ]
  },
  {
   "cell_type": "markdown",
   "id": "09983f40-9af6-4910-b4fa-8edbbb65127c",
   "metadata": {},
   "source": [
    "### test_load.py\n",
    "\n",
    "```\n",
    "barscan_GPSANS_detector1_20200103 393216 kB\n",
    "tubewidth_GPSANS_detector1_20200130 393216 kB\n",
    "```"
   ]
  },
  {
   "cell_type": "markdown",
   "id": "868f6fe1-8b24-4dcd-8584-b00fed21f96b",
   "metadata": {},
   "source": [
    "### test_mask_utils.py\n",
    "\n",
    "```\n",
    "@py_assert3 0 kB\n",
    "```\n",
    "\n",
    "> not sure how we are getting this one"
   ]
  },
  {
   "cell_type": "markdown",
   "id": "0403bad7-0ffd-4103-89e1-e6415c9f7041",
   "metadata": {},
   "source": [
    "### test_momentum_transfer.py\n",
    "\n",
    "> no leak"
   ]
  },
  {
   "cell_type": "markdown",
   "id": "b65a0f14-d1f9-4692-ae99-88fe9a44df93",
   "metadata": {},
   "source": [
    "### test_pixel_calibration.py\n",
    "\n",
    "```\n",
    "barscan_GPSANS_detector1_20200103 393216 kB\n",
    "barscan_GPSANS_detector1_20200103_heights 1181868 kB\n",
    "barscan_GPSANS_detector1_20200103_positions 1181868 kB\n",
    "barscan_GPSANS_detector1_20200103_positions_mantid 1181868 kB\n",
    "barscan_UNDEFINED_detector1_20200219 640 kB\n",
    "scan_55 1181868 kB\n",
    "tubewidth_BIOSANS_wing_detector_20200118 327680 kB\n",
    "tubewidth_GPSANS_detector1_20200130 393216 kB\n",
    "tubewidth_UNDEFINED_detector1_20200219 800 kB\n",
    "```"
   ]
  },
  {
   "cell_type": "markdown",
   "id": "26534f0a-3e1e-4671-a2a0-ffe2b0a7ce26",
   "metadata": {},
   "source": [
    "### test_prepare_sensitivities.py\n",
    "\n",
    "```\n",
    "BC_CG2_CG2_7117 1434937 kB\n",
    "BC_CG2_CG2_7119 1448089 kB\n",
    "BC_CG2_CG2_7121 1442393 kB\n",
    "BC_CG3_CG3_4830 2763785 kB\n",
    "BC_EQSANS_/SNS/EQSANS/shared/sans-backend/data/new/ornl/sans/sns/eqsans/EQSANS_111042.nxs.h5 37114117 kB\n",
    "BIOSANS_4835 44614937 kB\n",
    "BIOSANS_4835_sensitivity 2162968 kB\n",
    "BIOSANS_4835_sensitivity_new 5686553 kB\n",
    "EQSANS_111030 43589589 kB\n",
    "EQSANS_111030_sensitivity 1179928 kB\n",
    "EQSANS_111030_sensitivity_new 22355925 kB\n",
    "gold_sens_ws 12333224 kB\n",
    "GPSANS_7116 33567113 kB\n",
    "GPSANS_7116_processed_histo 12334073 kB\n",
    "GPSANS_7118 12118841 kB\n",
    "GPSANS_7118_processed_histo 12118841 kB\n",
    "GPSANS_7120 12078681 kB\n",
    "GPSANS_7120_processed_histo 12078681 kB\n",
    "sensitivities 1179928 kB\n",
    "sensitivities_new 12333449 kB\n",
    "test_sens_ws 12333449 kB\n",
    "TRANS_CG3_4831 2762857 kB\n",
    "TRANS_CG3_4835 5687177 kB\n",
    "```"
   ]
  },
  {
   "cell_type": "markdown",
   "id": "c33236c5-d55b-4eb8-acb3-374246d4f7b3",
   "metadata": {},
   "source": [
    "### test_stitch.py\n",
    "\n",
    "> no leak"
   ]
  },
  {
   "cell_type": "markdown",
   "id": "97165851-48de-4ec2-b9fd-5341cb8a4060",
   "metadata": {},
   "source": [
    "### test_subtract_background.py\n",
    "\n",
    "```\n",
    "@py_assert3 32 kB\n",
    "messages 0 kB\n",
    "```"
   ]
  },
  {
   "cell_type": "markdown",
   "id": "5b602f6c-bb04-48b1-96b0-7e96c01c99b1",
   "metadata": {},
   "source": [
    "### test_tubecollection.py\n",
    "\n",
    "```\n",
    "workspace 2162808 kB\n",
    "```"
   ]
  },
  {
   "cell_type": "markdown",
   "id": "5b05c7dc-1b7e-46c3-9164-b7e0fdd629b5",
   "metadata": {},
   "source": [
    "## SANS/sans-backend/tests/integration/new/drtsans/mono\n",
    "\n",
    "```\n",
    ".\n",
    "├── biosans\n",
    "├── gpsans\n",
    "├── __init__.py\n",
    "├── __pycache__\n",
    "├── test_absolute_units.py\n",
    "├── test_dark_current.py\n",
    "├── test_load.py\n",
    "├── test_normalization.py\n",
    "└── test_transmission.py\n",
    "```"
   ]
  },
  {
   "cell_type": "markdown",
   "id": "4fa77966-d649-46e2-8b8c-828f612742ce",
   "metadata": {},
   "source": [
    "### test_absolute_units.py\n",
    "\n",
    "```\n",
    "chi 96 kB\n",
    "```"
   ]
  },
  {
   "cell_type": "markdown",
   "id": "8a1a892f-060d-4d8a-b967-5c1faef52585",
   "metadata": {},
   "source": [
    "### test_dark_current.py\n",
    "\n",
    "> no leak"
   ]
  },
  {
   "cell_type": "markdown",
   "id": "a472edd9-e48a-4862-bc64-ea36c5f13ca3",
   "metadata": {},
   "source": [
    "### test_load.py\n",
    "\n",
    "> all loading tests are disabled on build server, the tests here are performed by re-enabling them locally\n",
    "\n",
    "The whole test module is still failing locally with unknown error, so the memory investigation will be performed on a per-func base:\n",
    "\n",
    "- test_load_gpsans()\n",
    "\n",
    "> no leaks\n",
    "\n",
    "- test_load_biosans()\n",
    "\n",
    "> no leftover workspaces, but the system memory usage is increased by 10+GB (Mantid is holding onto the memory without releasing them back?!)\n",
    "\n",
    "- test_load_biosans_sample_off_nominal()\n",
    "\n",
    "> no leftover workspaces, but the system meory usage is increased by 10+GB.\n",
    "\n",
    "- test_load_biosans_overwrite_swd()\n",
    "\n",
    "> no leftover workspaces, but the system meory usage is increased by 10+GB.\n",
    "\n",
    "- test_load_biosans_overwrite_sdd()\n",
    "\n",
    "> no leftover workspaces, but the system meory usage is increased by 10+GB.\n",
    "\n",
    "Overall, each func within this test consumes around 10~12 GB system memory, so it is possible to enable this on the build server if\n",
    "\n",
    "- the build server has large enough memory (>10*5 GB) to allow all of them run at the same time\n",
    "- this test module is run on a single thread and the system has enough memory (>10*2 GB)"
   ]
  },
  {
   "cell_type": "markdown",
   "id": "5f289718-2224-47dd-adbc-f39c83112054",
   "metadata": {},
   "source": [
    "### test_normalization.py\n",
    "\n",
    "> no leak"
   ]
  },
  {
   "cell_type": "markdown",
   "id": "b9db3f5f-46ba-4cd3-b6e4-966e0c405459",
   "metadata": {},
   "source": [
    "### test_transmission.py\n",
    "\n",
    "```\n",
    "transmissions 400 kB\n",
    "```"
   ]
  },
  {
   "cell_type": "markdown",
   "id": "519dd2d1-1ec9-4a77-8f39-81f8bb23233f",
   "metadata": {},
   "source": [
    "## SANS/sans-backend/tests/integration/new/drtsans/mono/biosans\n",
    "\n",
    "```\n",
    ".\n",
    "├── __init__.py\n",
    "├── __pycache__\n",
    "├── test_api.py\n",
    "├── test_convert_spice_to_nexus.py\n",
    "├── test_create_event_nexus.py\n",
    "├── test_load.py\n",
    "├── test_overwrite_geometry_meta_data.py\n",
    "├── test_prepare_sensitivities_spice.py\n",
    "└── test_reduction_spice.py\n",
    "```"
   ]
  },
  {
   "cell_type": "markdown",
   "id": "0fb17780-0583-414e-b4c1-3d659d02966a",
   "metadata": {},
   "source": [
    "### test_api.py\n",
    "\n",
    "__A LOT__ (~ 6GB)\n",
    "\n",
    "```\n",
    "_BIOSANS_8331_raw_histo 30474565 kB\n",
    "_BIOSANS_8359_raw_histo 3356101 kB\n",
    "_BIOSANS_8361_raw_histo 3357701 kB\n",
    "_BIOSANS_8361_raw_histo_slice_group 25164815 kB\n",
    "_BIOSANS_8361_raw_histo_slice_group_1 2297797 kB\n",
    "_BIOSANS_8361_raw_histo_slice_group_10 2298257 kB\n",
    "_BIOSANS_8361_raw_histo_slice_group_11 2180625 kB\n",
    "_BIOSANS_8361_raw_histo_slice_group_2 2299281 kB\n",
    "_BIOSANS_8361_raw_histo_slice_group_3 2298417 kB\n",
    "_BIOSANS_8361_raw_histo_slice_group_4 2298417 kB\n",
    "_BIOSANS_8361_raw_histo_slice_group_5 2298257 kB\n",
    "_BIOSANS_8361_raw_histo_slice_group_6 2298577 kB\n",
    "_BIOSANS_8361_raw_histo_slice_group_7 2298545 kB\n",
    "_BIOSANS_8361_raw_histo_slice_group_8 2298129 kB\n",
    "_BIOSANS_8361_raw_histo_slice_group_9 2298513 kB\n",
    "_BIOSANS_8361_raw_histo_slice_group_monitors 169136060 kB\n",
    "_BIOSANS_8361_raw_histo_slice_group_monitors_1 16909804 kB\n",
    "_BIOSANS_8361_raw_histo_slice_group_monitors_10 16910264 kB\n",
    "_BIOSANS_8361_raw_histo_slice_group_monitors_11 31800 kB\n",
    "_BIOSANS_8361_raw_histo_slice_group_monitors_2 16911288 kB\n",
    "_BIOSANS_8361_raw_histo_slice_group_monitors_3 16910424 kB\n",
    "_BIOSANS_8361_raw_histo_slice_group_monitors_4 16910424 kB\n",
    "_BIOSANS_8361_raw_histo_slice_group_monitors_5 16910264 kB\n",
    "_BIOSANS_8361_raw_histo_slice_group_monitors_6 16910584 kB\n",
    "_BIOSANS_8361_raw_histo_slice_group_monitors_7 16910552 kB\n",
    "_BIOSANS_8361_raw_histo_slice_group_monitors_8 16910136 kB\n",
    "_BIOSANS_8361_raw_histo_slice_group_monitors_9 16910520 kB\n",
    "_BIOSANS_8364_raw_histo 2675493 kB\n",
    "_BIOSANS_8373_raw_histo 2478757 kB\n",
    "_BIOSANS_8374_raw_histo 2769861 kB\n",
    "_BIOSANS_8375_raw_histo 2768373 kB\n",
    "_BIOSANS_8378_raw_histo 2531653 kB\n",
    "_BIOSANS_8379_raw_histo 2531877 kB\n",
    "_BIOSANS_8381_raw_histo 2532005 kB\n",
    "_bkgd_trans 3356101 kB\n",
    "_empty 2675493 kB\n",
    "_filter 44 kB\n",
    "_info 352 kB\n",
    "_load_tmp 114207261 kB\n",
    "_load_tmp_monitors 135412012 kB\n",
    "_main_sensitivity 56073220 kB\n",
    "_sample_trans 2180625 kB\n",
    "_wing_sensitivity 10125668 kB\n",
    "barscan_BIOSANS_detector1_20210302 393216 kB\n",
    "barscan_BIOSANS_wing_detector_20210302 327680 kB\n",
    "processed_data_main_0 2297797 kB\n",
    "processed_data_main_1 2299281 kB\n",
    "processed_data_main_10 2180625 kB\n",
    "processed_data_main_2 2298417 kB\n",
    "processed_data_main_3 2298417 kB\n",
    "processed_data_main_4 2298257 kB\n",
    "processed_data_main_5 2298577 kB\n",
    "processed_data_main_6 2298545 kB\n",
    "processed_data_main_7 2298129 kB\n",
    "processed_data_main_8 2298513 kB\n",
    "processed_data_main_9 2298257 kB\n",
    "processed_data_wing_0 2297797 kB\n",
    "processed_data_wing_1 2299281 kB\n",
    "processed_data_wing_10 2180625 kB\n",
    "processed_data_wing_2 2298417 kB\n",
    "processed_data_wing_3 2298417 kB\n",
    "processed_data_wing_4 2298257 kB\n",
    "processed_data_wing_5 2298577 kB\n",
    "processed_data_wing_6 2298545 kB\n",
    "processed_data_wing_7 2298129 kB\n",
    "processed_data_wing_8 2298513 kB\n",
    "processed_data_wing_9 2298257 kB\n",
    "TOFCorrectWS 120 kB\n",
    "tubewidth_BIOSANS_detector1_20200613 393216 kB\n",
    "tubewidth_BIOSANS_detector1_20210304 393216 kB\n",
    "tubewidth_BIOSANS_wing_detector_20200613 327680 kB\n",
    "tubewidth_BIOSANS_wing_detector_20210304 327680 kB\n",
    "```"
   ]
  },
  {
   "cell_type": "markdown",
   "id": "3818e204-6851-42ea-8290-05d0e9e46486",
   "metadata": {},
   "source": [
    "### test_convert_spice_to_nexus.py\n",
    "\n",
    "```\n",
    "BioSANS_exp402_scan0006_0001 2187008 kB\n",
    "raw 2187008 kB\n",
    "test2 40731985 kB\n",
    "```"
   ]
  },
  {
   "cell_type": "markdown",
   "id": "6b097538-5b6d-4f72-aaee-cee7e077f5e7",
   "metadata": {},
   "source": [
    "### test_create_event_nexus.py\n",
    "\n",
    "__A LOT__ (~ 2.5GB)\n",
    "\n",
    "```\n",
    "cg3_product 1358930129 kB\n",
    "cg3_source 1365637545 kB\n",
    "```"
   ]
  },
  {
   "cell_type": "markdown",
   "id": "f926515f-762d-4c7a-bc2a-165027e9e495",
   "metadata": {},
   "source": [
    "### test_load.py\n",
    "\n",
    "```\n",
    "BioTestLoadAll_BIOSANS_1322_raw_histo 2759417 kB\n",
    "BioTestLoadAll_BIOSANS_1383_raw_histo 21220025 kB\n",
    "BioTestLoadAll_BIOSANS_5705_raw_histo 3213337 kB\n",
    "BioTestLoadAll_BIOSANS_5709_raw_histo 8873481 kB\n",
    "BioTestLoadAll_BIOSANS_5715_raw_histo 9111337 kB\n",
    "BioTestLoadAll_main_sensitivity 37277184 kB\n",
    "BioTestLoadAll_wing_sensitivity 5686536 kB\n",
    "```"
   ]
  },
  {
   "cell_type": "markdown",
   "id": "bcf00f33-f588-459b-b939-b86bbf8c131a",
   "metadata": {},
   "source": [
    "### test_overwrite_geometry_meta_data.py\n",
    "\n",
    "> all acutal tests are skipped for various reasons, need to contact the dev and instrument scientists for further details (most likely a historical issue)"
   ]
  },
  {
   "cell_type": "markdown",
   "id": "f91faae4-2f89-4c01-8c4a-ebc6b6117ad4",
   "metadata": {},
   "source": [
    "### test_prepare_sensitivities_spice.py\n",
    "\n",
    "> the test for main det was disalbed, and re-enabled for profiling (cannot run locally due to memory size, analysis performed on analysis cluster)\n",
    "\n",
    "- This test leaves two files (18 MB each) in the running directory.\n",
    "- Has about __100 MB__ leftover in memory\n",
    "\n",
    "```\n",
    "BC_CG3_/SNS/EQSANS/shared/sans-backend/data/new/ornl/sans/hfir/biosans/CG3_054900090001.nxs.h5 2165537 kB\n",
    "BC_CG3_/SNS/EQSANS/shared/sans-backend/data/new/ornl/sans/hfir/biosans/CG3_054900200001.nxs.h5 2165537 kB\n",
    "BIOSANS_54900090001 41093297 kB\n",
    "BIOSANS_54900090001_sensitivity 2162968 kB\n",
    "BIOSANS_54900090001_sensitivity_new 2164913 kB\n",
    "BIOSANS_54900200001 41093297 kB\n",
    "BIOSANS_54900200001_sensitivity 2162968 kB\n",
    "BIOSANS_54900200001_sensitivity_new 2164913 kB\n",
    "BIOSANS_54900220001 2164913 kB\n",
    "gold_sens_ws 2164688 kB\n",
    "test_sens_ws 2165121 kB\n",
    "TRANS_CG3_/SNS/EQSANS/shared/sans-backend/data/new/ornl/sans/hfir/biosans/CG3_054900090001.nxs.h5 2165537 kB\n",
    "TRANS_CG3_/SNS/EQSANS/shared/sans-backend/data/new/ornl/sans/hfir/biosans/CG3_054900100001.nxs.h5 2165537 kB\n",
    "TRANS_CG3_/SNS/EQSANS/shared/sans-backend/data/new/ornl/sans/hfir/biosans/CG3_054900160001.nxs.h5 2165537 kB\n",
    "TRANS_CG3_/SNS/EQSANS/shared/sans-backend/data/new/ornl/sans/hfir/biosans/CG3_054900200001.nxs.h5 2165537 kB\n",
    "```\n"
   ]
  },
  {
   "cell_type": "markdown",
   "id": "a30c42fa-7d37-4bee-98ed-487738516d8e",
   "metadata": {},
   "source": [
    "### test_reduction_spice.py \n",
    "\n",
    "> all acutal tests are skipped for various reasons, need to contact the dev and instrument scientists for further details (most likely a historical issue)"
   ]
  },
  {
   "cell_type": "markdown",
   "id": "513267dc-84af-4f99-9dce-c65979b0532b",
   "metadata": {},
   "source": [
    "## SANS/sans-backend/tests/integration/new/drtsans/mono/gpsans\n",
    "\n",
    "```\n",
    ".\n",
    "├── __init__.py\n",
    "├── __pycache__\n",
    "├── test_convert_spice_to_nexus.py\n",
    "├── test_create_event_nexus.py\n",
    "├── test_find_beam_center.py\n",
    "├── test_load.py\n",
    "├── test_overwrite_geometry_meta_data.py\n",
    "├── test_pixel_map_spice.py\n",
    "├── test_reduction_spice.py\n",
    "└── test_spice_prepare_sensitivities.py\n",
    "```"
   ]
  },
  {
   "cell_type": "markdown",
   "id": "e844db28-8d76-41b4-81ad-4b0b471bba02",
   "metadata": {
    "jp-MarkdownHeadingCollapsed": true,
    "tags": []
   },
   "source": [
    "### test_convert_spice_to_nexus.py\n",
    "\n",
    "```\n",
    "CG2_exp280_scan0012_0001 1203320 kB\n",
    "raw 1203320 kB\n",
    "test2 23527873 kB\n",
    "```"
   ]
  },
  {
   "cell_type": "markdown",
   "id": "92fac92f-2d3d-4215-8102-b0648f7cb788",
   "metadata": {},
   "source": [
    "### test_create_event_nexus.py\n",
    "\n",
    "About __100__ MB leak\n",
    "\n",
    "```\n",
    "_bkgd_trans 1182917 kB\n",
    "_empty 1182917 kB\n",
    "_processed_center 1182917 kB\n",
    "_sample_trans 1182901 kB\n",
    "CG2_exp315_scan0005_0060 1203944 kB\n",
    "cg2_product 23446973 kB\n",
    "cg2_prototype 23446765 kB\n",
    "CG2IntTestSpice_CG2_exp315_scan0005_0060 1203944 kB\n",
    "CG2MetaRaw_GPSANS_/tmp/reducecg2nexus7108ys_e/CG2_9165.nxs.h5_raw_histo 1184293 kB\n",
    "CG2MetaRaw_GPSANS_/tmp/reducecg2nexus7108ys_e/CG2_9166.nxs.h5_raw_histo 1184357 kB\n",
    "CG2MetaRaw_GPSANS_/tmp/reducecg2nexus7108ys_e/CG2_9177.nxs.h5_raw_histo 1182917 kB\n",
    "CG2MetaRaw_GPSANS_/tmp/reducecg2nexus7108ys_e/CG2_9178.nxs.h5_raw_histo 1182901 kB\n",
    "CG2MetaRaw_sensitivity 16933112 kB\n",
    "cg3template 23703369 kB\n",
    "chi 96 kB\n",
    "gold 23493289 kB\n",
    "processed_data_main 1184357 kB\n",
    "test 23236853 kB\n",
    "TestSpice2Nexus315560 1181385 kB\n",
    "```"
   ]
  },
  {
   "cell_type": "markdown",
   "id": "61cd7e2c-dd36-4e32-92fe-59eb4232b4f5",
   "metadata": {},
   "source": [
    "### test_find_beam_center.py\n",
    "\n",
    "```\n",
    "BC_8148 1459377 kB\n",
    "```"
   ]
  },
  {
   "cell_type": "markdown",
   "id": "4281c4e5-8c8a-40fb-8876-c02ac416d205",
   "metadata": {},
   "source": [
    "### test_load.py\n",
    "\n",
    "```\n",
    "GP_TEST_LOAD_GPSANS_9165_raw_histo 1798009 kB\n",
    "GP_TEST_LOAD_GPSANS_9177_raw_histo 1439257 kB\n",
    "GP_TEST_LOAD_GPSANS_9178_raw_histo 1439081 kB\n",
    "GP_TEST_LOAD_sensitivity 16933112 kB\n",
    "```"
   ]
  },
  {
   "cell_type": "markdown",
   "id": "f38151b9-968a-49f8-846b-afdf9efd498e",
   "metadata": {},
   "source": [
    "### test_overwrite_geometry_meta_data.py\n",
    "\n",
    "~ __50__ MB leak\n",
    "\n",
    "```\n",
    "_bkgd_trans 1439529 kB\n",
    "_empty 1439529 kB\n",
    "_processed_center 1439529 kB\n",
    "_sample_trans 1449257 kB\n",
    "CG2MetaBoth_GPSANS_9165_raw_histo 1799657 kB\n",
    "CG2MetaBoth_GPSANS_9166_raw_histo 1796017 kB\n",
    "CG2MetaBoth_GPSANS_9167_raw_histo 1815313 kB\n",
    "CG2MetaBoth_GPSANS_9176_raw_histo 16279889 kB\n",
    "CG2MetaBoth_GPSANS_9177_raw_histo 1439529 kB\n",
    "CG2MetaBoth_GPSANS_9178_raw_histo 1439337 kB\n",
    "CG2MetaBoth_GPSANS_9179_raw_histo 1439241 kB\n",
    "CG2MetaBoth_GPSANS_9188_raw_histo 1449257 kB\n",
    "CG2MetaBoth_sensitivity 16933112 kB\n",
    "CG2MetaRaw_GPSANS_9165_raw_histo 1799657 kB\n",
    "CG2MetaRaw_GPSANS_9166_raw_histo 1796017 kB\n",
    "CG2MetaRaw_GPSANS_9167_raw_histo 1815313 kB\n",
    "CG2MetaRaw_GPSANS_9176_raw_histo 16279889 kB\n",
    "CG2MetaRaw_GPSANS_9177_raw_histo 1439529 kB\n",
    "CG2MetaRaw_GPSANS_9178_raw_histo 1439337 kB\n",
    "CG2MetaRaw_GPSANS_9179_raw_histo 1439241 kB\n",
    "CG2MetaRaw_GPSANS_9188_raw_histo 1449257 kB\n",
    "CG2MetaRaw_sensitivity 16933112 kB\n",
    "CG2MetaSDD_GPSANS_9165_raw_histo 1799657 kB\n",
    "CG2MetaSDD_GPSANS_9166_raw_histo 1796017 kB\n",
    "CG2MetaSDD_GPSANS_9167_raw_histo 1815313 kB\n",
    "CG2MetaSDD_GPSANS_9176_raw_histo 16279889 kB\n",
    "CG2MetaSDD_GPSANS_9177_raw_histo 1439529 kB\n",
    "CG2MetaSDD_GPSANS_9178_raw_histo 1439337 kB\n",
    "CG2MetaSDD_GPSANS_9179_raw_histo 1439241 kB\n",
    "CG2MetaSDD_GPSANS_9188_raw_histo 1449257 kB\n",
    "CG2MetaSDD_sensitivity 16933112 kB\n",
    "CG2MetaSWD_GPSANS_9165_raw_histo 1799657 kB\n",
    "CG2MetaSWD_GPSANS_9166_raw_histo 1796017 kB\n",
    "CG2MetaSWD_GPSANS_9167_raw_histo 1815313 kB\n",
    "CG2MetaSWD_GPSANS_9176_raw_histo 16279889 kB\n",
    "CG2MetaSWD_GPSANS_9177_raw_histo 1439529 kB\n",
    "CG2MetaSWD_GPSANS_9178_raw_histo 1439337 kB\n",
    "CG2MetaSWD_GPSANS_9179_raw_histo 1439241 kB\n",
    "CG2MetaSWD_GPSANS_9188_raw_histo 1449257 kB\n",
    "CG2MetaSWD_sensitivity 16933112 kB\n",
    "chi 96 kB\n",
    "processed_data_main 16279889 kB\n",
    "```"
   ]
  },
  {
   "cell_type": "markdown",
   "id": "5f97dbb9-706f-445d-b602-6b5947111a08",
   "metadata": {},
   "source": [
    "### test_pixel_map_spice.py\n",
    "\n",
    "total=2.754289 MB\n",
    "\n",
    "```\n",
    "barscan_GPSANS_detector1_20180220 393216 kB\n",
    "flood_run 1181425 kB\n",
    "gold_calib_ws 393216 kB\n",
    "test_calib_ws 393216 kB\n",
    "tubewidth_GPSANS_detector1_20180220 393216 kB\n",
    "\n",
    "```"
   ]
  },
  {
   "cell_type": "markdown",
   "id": "d2223074-9635-4386-9101-86bc1056ad04",
   "metadata": {},
   "source": [
    "### test_reduction_spice.py\n",
    "\n",
    "total=16.577108 MB\n",
    "\n",
    "```\n",
    "_bkgd_trans 1182593 kB\n",
    "_empty 1182593 kB\n",
    "_GPSANS_/SNS/EQSANS/shared/sans-backend/data/new/ornl/sans/hfir/gpsans/Exp280/CG2_028000090001.nxs.h5_raw_histo 1182593 kB\n",
    "_GPSANS_/SNS/EQSANS/shared/sans-backend/data/new/ornl/sans/hfir/gpsans/Exp280/CG2_028000200001.nxs.h5_raw_histo 1182593 kB\n",
    "_GPSANS_/SNS/EQSANS/shared/sans-backend/data/new/ornl/sans/hfir/gpsans/Exp280/CG2_028000260001.nxs.h5_raw_histo 1182593 kB\n",
    "_GPSANS_/SNS/EQSANS/shared/sans-backend/data/new/ornl/sans/hfir/gpsans/Exp280/CG2_028000270001.nxs.h5_raw_histo 1182593 kB\n",
    "_GPSANS_/SNS/EQSANS/shared/sans-backend/data/new/ornl/sans/hfir/gpsans/Exp280/CG2_028000280001.nxs.h5_raw_histo 1182593 kB\n",
    "_GPSANS_/SNS/EQSANS/shared/sans-backend/data/new/ornl/sans/hfir/gpsans/Exp280/CG2_028000340001.nxs.h5_raw_histo 1182593 kB\n",
    "_GPSANS_/SNS/EQSANS/shared/sans-backend/data/new/ornl/sans/hfir/gpsans/Exp280/CG2_028000350001.nxs.h5_raw_histo 1182969 kB\n",
    "_mask 1203736 kB\n",
    "_processed_center 1182593 kB\n",
    "_sample_trans 1182593 kB\n",
    "_sensitivity 1181408 kB\n",
    "chi 96 kB\n",
    "processed_data_main 1182969 kB\n",
    "```"
   ]
  },
  {
   "cell_type": "markdown",
   "id": "18bc1f25-73b3-4ca6-922e-6a6055c1823d",
   "metadata": {},
   "source": [
    "### test_spice_prepare_sensitivities.py\n",
    "\n",
    "total=37.384595 MB\n",
    "\n",
    "```\n",
    "barscan_GPSANS_detector1_20180220 393216 kB\n",
    "BC_CG2_/SNS/EQSANS/shared/sans-backend/data/new/ornl/sans/hfir/gpsans/Exp280/CG2_028000370001.nxs.h5 1182257 kB\n",
    "BC_CG2_/SNS/EQSANS/shared/sans-backend/data/new/ornl/sans/hfir/gpsans/Exp280/CG2_028000390001.nxs.h5 1182257 kB\n",
    "BC_CG2_/SNS/EQSANS/shared/sans-backend/data/new/ornl/sans/hfir/gpsans/Exp280/CG2_028000410001.nxs.h5 1182257 kB\n",
    "gold_sens_ws 1181408 kB\n",
    "GPSANS_28000380001 22415297 kB\n",
    "GPSANS_28000380001_processed_histo 1182257 kB\n",
    "GPSANS_28000400001 1182257 kB\n",
    "GPSANS_28000400001_processed_histo 1182257 kB\n",
    "GPSANS_28000420001 1182257 kB\n",
    "GPSANS_28000420001_processed_histo 1182257 kB\n",
    "sensitivities 1179928 kB\n",
    "sensitivities_new 1181633 kB\n",
    "test_sens_ws 1181841 kB\n",
    "tubewidth_GPSANS_detector1_20180220 393216 kB\n",
    "```"
   ]
  },
  {
   "cell_type": "markdown",
   "id": "a331f547-4a03-444a-a98b-2a3ae417a5f4",
   "metadata": {},
   "source": [
    "## SANS/sans-backend/tests/integration/new/drtsans/tof/eqsans\n",
    "\n",
    "```\n",
    ".\n",
    "├── __init__.py\n",
    "├── __pycache__\n",
    "├── test_apply_solid_angle.py\n",
    "├── test_beam_finder.py\n",
    "├── test_correct_frame.py\n",
    "├── test_dark_current.py\n",
    "├── test_inelastic_incoherence_correction.py\n",
    "├── test_integration_api.py\n",
    "├── test_iq_binning.py\n",
    "├── test_normalization.py\n",
    "├── test_reduce.py\n",
    "├── test_reduction_api.py\n",
    "├── test_save_ascii.py\n",
    "└── test_transmission.py\n",
    "```"
   ]
  },
  {
   "cell_type": "markdown",
   "id": "1a8f24f9-5417-46c4-a1c8-98aa9bc80fb8",
   "metadata": {},
   "source": [
    "### test_apply_solid_angle.py\n",
    "\n",
    "```\n",
    "GenericSANS 496 kB\n",
    "ws2 496 kB\n",
    "```"
   ]
  },
  {
   "cell_type": "markdown",
   "id": "5ffeece2-1ec8-4449-9595-e41550c18a59",
   "metadata": {},
   "source": [
    "### test_beam_finder.py\n",
    "\n",
    "> no leaks"
   ]
  },
  {
   "cell_type": "markdown",
   "id": "a034ae1b-2d72-4f26-ba19-e882d3f361b3",
   "metadata": {},
   "source": [
    "### test_correct_frame.py\n",
    "\n",
    "> no leaks"
   ]
  },
  {
   "cell_type": "markdown",
   "id": "6134a25d-1690-4768-86ab-7ce6df491a33",
   "metadata": {},
   "source": [
    "### test_dark_current.py\n",
    "\n",
    "> no leaks"
   ]
  },
  {
   "cell_type": "markdown",
   "id": "0dc8cf77-3f33-4aac-b2af-105aa73a146d",
   "metadata": {},
   "source": [
    "### test_inelastic_incoherence_correction.py\n",
    "\n",
    "total=__436.214769__ MB\n",
    "\n",
    "```\n",
    "_empty 37277037 kB\n",
    "_EQSANS_124667_raw_histo 106769917 kB\n",
    "_EQSANS_124680_raw_histo 40050957 kB\n",
    "_EQSANS_125701_raw_events 41005101 kB\n",
    "_EQSANS_125701_raw_histo 37276829 kB\n",
    "_EQSANS_125707_raw_histo 38326685 kB\n",
    "_mask 27092797 kB\n",
    "_sensitivity 30036140 kB\n",
    "processed_data_main 38327517 kB\n",
    "processed_elastic_ref 40051789 kB\n",
    "```"
   ]
  },
  {
   "cell_type": "markdown",
   "id": "cb545493-45e6-4170-833e-abd88d83af50",
   "metadata": {},
   "source": [
    "### test_integration_api.py\n",
    "\n",
    "total=135.248777 MB\n",
    "\n",
    "```\n",
    "@py_assert7 0 kB\n",
    "EQSANS_88565_monitors 424200 kB\n",
    "EQSANS_92353_monitors 134563688 kB\n",
    "normalized_data_workspace 260889 kB\n",
    "```"
   ]
  },
  {
   "cell_type": "markdown",
   "id": "19cf21ad-dda7-4432-84d5-6e0010a792f7",
   "metadata": {},
   "source": [
    "### test_iq_binning.py\n",
    "\n",
    "total=96.537251 MB\n",
    "\n",
    "```\n",
    "EQSANS_68200 38469713 kB\n",
    "flux_ws 1024 kB\n",
    "ws 38470337 kB\n",
    "ws_rebin 19596177 kB\n",
    "```"
   ]
  },
  {
   "cell_type": "markdown",
   "id": "19b0114e-80e1-4185-87ea-77b47091cec6",
   "metadata": {},
   "source": [
    "### test_normalization.py\n",
    "\n",
    "> no leaks"
   ]
  },
  {
   "cell_type": "markdown",
   "id": "7a862f10-c564-4f91-94c4-efc48b792a64",
   "metadata": {},
   "source": [
    "### test_reduce.py\n",
    "\n",
    "```\n",
    "@py_assert3 32 kB\n",
    "```"
   ]
  },
  {
   "cell_type": "markdown",
   "id": "e6135ed0-fbfd-47b3-9e12-7aff5f858178",
   "metadata": {},
   "source": [
    "### test_reduction_api.py\n",
    "\n",
    "total=__1433.48798__ MB\n",
    "\n",
    "```\n",
    "_bkgd_trans 11329701 kB\n",
    "_empty 11331733 kB\n",
    "_EQSANS_113569_raw_histo 72325189 kB\n",
    "_EQSANS_115356_raw_events 44045813 kB\n",
    "_EQSANS_115356_raw_histo 11331525 kB\n",
    "_EQSANS_115357_raw_histo 11329493 kB\n",
    "_EQSANS_115361_raw_histo 12371909 kB\n",
    "_EQSANS_115363_raw_histo 11679333 kB\n",
    "_EQSANS_86275_raw_histo 64764329 kB\n",
    "_EQSANS_88973_raw_events 33996129 kB\n",
    "_EQSANS_88973_raw_histo 123260961 kB\n",
    "_EQSANS_88974_raw_histo 123262769 kB\n",
    "_EQSANS_88978_raw_histo 123261585 kB\n",
    "_EQSANS_88980_raw_histo 124588369 kB\n",
    "_mask 143871004 kB\n",
    "_sample_trans 124588577 kB\n",
    "_sensitivity 55210004 kB\n",
    "com_gold 11680165 kB\n",
    "com_test 11680165 kB\n",
    "gauss_gold 11680165 kB\n",
    "gauss_test 11680165 kB\n",
    "no_wl_gold 124589201 kB\n",
    "no_wl_test 124589201 kB\n",
    "processed_data_main 11680165 kB\n",
    "reg_gold 11680165 kB\n",
    "reg_test 11680165 kB\n",
    "```"
   ]
  },
  {
   "cell_type": "markdown",
   "id": "47e47902-12c1-4c38-8903-febaeb838008",
   "metadata": {},
   "source": [
    "### test_save_ascii.py\n",
    "\n",
    "```\n",
    "ws 1903400 kB\n",
    "```"
   ]
  },
  {
   "cell_type": "markdown",
   "id": "881d2b50-cc9a-4214-9e18-5995d27eb828",
   "metadata": {},
   "source": [
    "### test_transmission.py\n",
    "\n",
    "total=__341.434096__ MB\n",
    "\n",
    "```\n",
    "a 41544560 kB\n",
    "b 41544896 kB\n",
    "c 129172488 kB\n",
    "compare_msgs 32 kB\n",
    "d 129172120 kB\n",
    "```"
   ]
  },
  {
   "cell_type": "code",
   "execution_count": null,
   "id": "02eed503-247c-468f-b969-5c79732f0bd8",
   "metadata": {},
   "outputs": [],
   "source": []
  }
 ],
 "metadata": {
  "kernelspec": {
   "display_name": "Python 3",
   "language": "python",
   "name": "python3"
  },
  "language_info": {
   "codemirror_mode": {
    "name": "ipython",
    "version": 3
   },
   "file_extension": ".py",
   "mimetype": "text/x-python",
   "name": "python",
   "nbconvert_exporter": "python",
   "pygments_lexer": "ipython3",
   "version": "3.8.12"
  }
 },
 "nbformat": 4,
 "nbformat_minor": 5
}
